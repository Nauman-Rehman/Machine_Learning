{
 "cells": [
  {
   "cell_type": "markdown",
   "metadata": {},
   "source": [
    "In this chapter, you will continue to use scikit-learn, creating a variety of models for linear regression and classifying data. You'll also learn how to perform hyperparameter tuning and model evaluation through cross-validation.\n",
    "\n",
    "# A. Creating models for data\n",
    "The main job of a data scientist is analyzing data and creating models for obtaining results from the data. Oftentimes, data scientists will use simple statistical models for their data, rather than machine learning models like neural networks. This is because data scientists tend to work with smaller datasets than machine learning engineers, so they can quickly extract good results using statistical models.\n",
    "\n",
    "The scikit-learn library provides many statistical models for linear regression. It also provides a few good models for classifying data, which will be introduced in later chapters.\n",
    "\n",
    "When creating these models, data scientists need to figure out the optimal hyperparameters to use. Hyperparameters are values that we set when creating a model, e.g. certain constant coefficients used in the model's calculations. We'll talk more about hyperparameter tuning, the process of finding the optimal hyperparameter settings, in later chapters."
   ]
  },
  {
   "cell_type": "markdown",
   "metadata": {},
   "source": [
    "# ************** Very Important ****************\n",
    "\n",
    "jab apan slope nikalte hai kisi bhi linear equation ka to usme 1 condition hoti hai ki apan jo bhi point lenge voh us slope par hi lie karega.\n",
    "Lekin real world me real data ke sath esa nhi hota, jis data se model ko tayyar kiya jata hai voh us slope pr lie kar bhi sakta hai or ho sakta hai ki na bhi kare.\n",
    "To esi situation me apan jo slope nikalte hai voh (y<sub>2</sub> - y<sub>1</sub>)/(x<sub>2</sub> - x<sub>1</sub>)\n",
    "karke nhi nikalte balki:\n",
    "pehle x and y quantities ka alag alag mean lete hai , fir x quanties ka deviation(x - mean of x quantities) nikalte hai same y ka bhi deviation nikalte hai, fir x deviation * y deviation karke in sare products ka sum kr lete hai. Lets say sum = A\n",
    "\n",
    "fir x deviation * x deviation karte hai or in sare products ka bhi sum kar lete hai. Lets say this sum = B\n",
    "\n",
    "then slope = A/B\n",
    "### you can see the slope and points in the next topic (linear regression) that the points are not exactly liying on the slope but near to it."
   ]
  },
  {
   "cell_type": "markdown",
   "metadata": {},
   "source": []
  }
 ],
 "metadata": {
  "language_info": {
   "name": "python"
  }
 },
 "nbformat": 4,
 "nbformat_minor": 2
}
