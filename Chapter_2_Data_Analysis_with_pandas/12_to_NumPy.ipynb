{
 "cells": [
  {
   "cell_type": "code",
   "execution_count": 1,
   "metadata": {},
   "outputs": [],
   "source": [
    "import numpy as np\n",
    "import pandas as pd\n",
    "import matplotlib.pyplot as plt"
   ]
  },
  {
   "cell_type": "markdown",
   "metadata": {},
   "source": [
    "# A. Machine learning\n",
    "The DataFrame object is great for storing a dataset and performing data analysis in Python. However, most machine learning frameworks (e.g. TensorFlow), work directly with NumPy data. Furthermore, the NumPy data used as input to machine learning models must solely contain quantitative values.\n",
    "\n",
    "Therefore, to use a DataFrame's data with a machine learning model, we need to convert the DataFrame to a NumPy matrix of quantitative data. So even the categorical features of a DataFrame, such as gender and birthplace, must be converted to quantitative values."
   ]
  },
  {
   "cell_type": "markdown",
   "metadata": {},
   "source": [
    "# B. Indicator features\n",
    "When converting a DataFrame to a NumPy matrix of quantitative data, we need to find a way to modify the categorical features in the DataFrame.\n",
    "\n",
    "The easiest way to do this is to convert each categorical feature into a set of indicator features for each of its categories. The indicator feature for a specific category represents whether or not a given data sample belongs to that category.\n",
    "\n",
    "The code below shows a DataFrame with indicator features."
   ]
  },
  {
   "cell_type": "code",
   "execution_count": 4,
   "metadata": {},
   "outputs": [
    {
     "name": "stdout",
     "output_type": "stream",
     "text": [
      "    color\n",
      "r1    red\n",
      "r2   blue\n",
      "r3  green\n",
      "r4    red\n",
      "r5    red\n",
      "r6   blue\n",
      "\n",
      "    Indicator_blue  Indicator_green  Indicator_red\n",
      "r1           False            False           True\n",
      "r2            True            False          False\n",
      "r3           False             True          False\n",
      "r4           False            False           True\n",
      "r5           False            False           True\n",
      "r6            True            False          False\n",
      "\n",
      "    Indicator_blue  Indicator_green  Indicator_red\n",
      "r1               0                0              1\n",
      "r2               1                0              0\n",
      "r3               0                1              0\n",
      "r4               0                0              1\n",
      "r5               0                0              1\n",
      "r6               1                0              0\n",
      "\n"
     ]
    }
   ],
   "source": [
    "df = pd.DataFrame({'color':['red', 'blue', 'green', 'red', 'red', 'blue']},\n",
    "                  index = ['r1', 'r2', 'r3', 'r4', 'r5', 'r6'])\n",
    "print('{}\\n'.format(df))\n",
    "\n",
    "df_indicator = pd.get_dummies(df, columns=['color'], prefix = 'Indicator')\n",
    "# in the above line we make an (indicator DataFrame) and this thing can be understand by taking the output of this cell\n",
    "print('{}\\n'.format(df_indicator))\n",
    "\n",
    "# in order to print 0,1 in the place of True,False\n",
    "df_indicator = df_indicator.astype(int)\n",
    "print('{}\\n'.format(df_indicator))"
   ]
  },
  {
   "cell_type": "markdown",
   "metadata": {},
   "source": [
    "In the code above, the DataFrame df has a single categorical feature called Color. The corresponding indicator features for Color are shown in indicator_df.\n",
    "\n",
    "Note that an indicator feature contains 1 when the row has that particular category, and 0 if the row does not."
   ]
  },
  {
   "cell_type": "markdown",
   "metadata": {},
   "source": [
    "# C. Converting to indicators\n",
    "In pandas, we convert each categorical feature of a DataFrame to indicator features with the get_dummies function. The function takes in a DataFrame as its required argument, and returns the DataFrame with each of its categorical features converted to indicator features.\n",
    "\n",
    "The code below demonstrates how to use the get_dummies function."
   ]
  },
  {
   "cell_type": "code",
   "execution_count": 25,
   "metadata": {},
   "outputs": [
    {
     "name": "stdout",
     "output_type": "stream",
     "text": [
      "          lgID teamID\n",
      "playerID             \n",
      "bettsmo01   AL    BOS\n",
      "martest01   NL    PIT\n",
      "pedrodu01   AL    BOS\n",
      "polangr01   NL    PIT\n",
      "\n",
      "Index(['lgID_AL', 'lgID_NL', 'teamID_BOS', 'teamID_PIT'], dtype='object')\n",
      "\n",
      "           teamID_BOS  teamID_PIT\n",
      "playerID                         \n",
      "bettsmo01        True       False\n",
      "martest01       False        True\n",
      "pedrodu01        True       False\n",
      "polangr01       False        True\n",
      "\n",
      "           lgID_AL  lgID_NL\n",
      "playerID                   \n",
      "bettsmo01     True    False\n",
      "martest01    False     True\n",
      "pedrodu01     True    False\n",
      "polangr01    False     True\n",
      "\n",
      "           teamID_BOS  teamID_PIT\n",
      "playerID                         \n",
      "bettsmo01           1           0\n",
      "martest01           0           1\n",
      "pedrodu01           1           0\n",
      "polangr01           0           1\n",
      "\n",
      "           lgID_AL  lgID_NL\n",
      "playerID                   \n",
      "bettsmo01        1        0\n",
      "martest01        0        1\n",
      "pedrodu01        1        0\n",
      "polangr01        0        1\n",
      "\n"
     ]
    }
   ],
   "source": [
    "\n",
    "df = pd.DataFrame({'lgID': ['AL', 'NL', 'AL', 'NL'],\n",
    "                   'teamID': ['BOS', 'PIT', 'BOS', 'PIT']},\n",
    "                   index  = ['bettsmo01', 'martest01', 'pedrodu01', 'polangr01'])\n",
    "df.index.name = 'playerID' # by writing this line we have given 'playerID' name or label to our rows \n",
    "print('{}\\n'.format(df))\n",
    "\n",
    "converted = pd.get_dummies(df)\n",
    "print('{}\\n'.format(converted.columns))\n",
    "\n",
    "print('{}\\n'.format(converted[['teamID_BOS',\n",
    "                               'teamID_PIT']]))\n",
    "print('{}\\n'.format(converted[['lgID_AL',\n",
    "                               'lgID_NL']]))\n",
    "converted = converted.astype(int)\n",
    "print('{}\\n'.format(converted[['teamID_BOS',\n",
    "                               'teamID_PIT']]))\n",
    "print('{}\\n'.format(converted[['lgID_AL',\n",
    "                               'lgID_NL']]))"
   ]
  },
  {
   "cell_type": "markdown",
   "metadata": {},
   "source": [
    "Note that the indicator features have the original categorical feature's label as a prefix. This makes it easy to see where each indicator feature originally came from."
   ]
  },
  {
   "cell_type": "markdown",
   "metadata": {},
   "source": [
    "# D. Converting to NumPy\n",
    "After converting all the categorical features to indicator features, the DataFrame should have all quantitative data. We can then convert to a NumPy matrix using the values function.\n",
    "\n",
    "The code below converts a DataFrame, df into a NumPy matrix."
   ]
  },
  {
   "cell_type": "code",
   "execution_count": 26,
   "metadata": {},
   "outputs": [
    {
     "name": "stdout",
     "output_type": "stream",
     "text": [
      "           teamID_BOS  teamID_PIT\n",
      "playerID                         \n",
      "bettsmo01           1           0\n",
      "martest01           0           1\n",
      "pedrodu01           1           0\n",
      "polangr01           0           1\n",
      "\n",
      "           HR  teamID_BOS  teamID_PIT\n",
      "playerID                             \n",
      "bettsmo01  24           1           0\n",
      "martest01   7           0           1\n",
      "pedrodu01   7           1           0\n",
      "polangr01  11           0           1\n",
      "\n",
      "array([[24,  1,  0],\n",
      "       [ 7,  0,  1],\n",
      "       [ 7,  1,  0],\n",
      "       [11,  0,  1]], dtype=int64)\n"
     ]
    }
   ],
   "source": [
    "df = converted[['teamID_BOS', 'teamID_PIT']]\n",
    "print('{}\\n'.format(df))\n",
    "df.insert(0,'HR',[24, 7, 7, 11]) # by this we are adding a new column named 'HR' at first positin means at index 0\n",
    "print('{}\\n'.format(df))\n",
    "\n",
    "n_matrix = df.values # here this DataFrame is converted to a NumPy matrix\n",
    "print(repr(n_matrix))"
   ]
  },
  {
   "cell_type": "markdown",
   "metadata": {},
   "source": [
    "The rows and columns of the output matrix correspond to the rows and columns of the same position in the DataFrame. In the code above, the first column of the NumPy matrix represents HR, the second column represents teamID_BOS, and the third column represents teamID_PIT."
   ]
  },
  {
   "cell_type": "code",
   "execution_count": null,
   "metadata": {},
   "outputs": [],
   "source": []
  }
 ],
 "metadata": {
  "kernelspec": {
   "display_name": "Python 3",
   "language": "python",
   "name": "python3"
  },
  "language_info": {
   "codemirror_mode": {
    "name": "ipython",
    "version": 3
   },
   "file_extension": ".py",
   "mimetype": "text/x-python",
   "name": "python",
   "nbconvert_exporter": "python",
   "pygments_lexer": "ipython3",
   "version": "3.10.0"
  }
 },
 "nbformat": 4,
 "nbformat_minor": 2
}
