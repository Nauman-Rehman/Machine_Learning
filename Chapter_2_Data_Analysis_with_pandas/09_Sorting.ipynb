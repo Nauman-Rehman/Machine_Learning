{
 "cells": [
  {
   "cell_type": "code",
   "execution_count": 5,
   "metadata": {},
   "outputs": [],
   "source": [
    "import pandas as pd"
   ]
  },
  {
   "cell_type": "code",
   "execution_count": 6,
   "metadata": {},
   "outputs": [],
   "source": [
    "df = pd.DataFrame({\n",
    "  'playerID': ['pedrodu01', 'pedrodu01','troutmi01', 'cruzne02', 'cruzne02','troutmi01'],\n",
    "  'yearID': [2016, 2017, 2017, 2016, 2017, 2016],\n",
    "  'teamID': ['BOS', 'BOS', 'LAA', 'SEA', 'SEA', 'LAA'],\n",
    "  'HR': [15, 7, 33, 43, 39, 29]})"
   ]
  },
  {
   "cell_type": "markdown",
   "metadata": {},
   "source": [
    "# A. Sorting by feature\n",
    "When we deal with a dataset that has many features, it is often useful to sort the dataset. This makes it easier to view the data and spot trends in the values.\n",
    "\n",
    "In pandas, the sort_values function allows us to sort a DataFrame by one or more of its columns. The first argument is either a column label or a list of column labels to sort by.\n",
    "\n",
    "The ascending keyword argument allows us to specify whether to sort in ascending or descending order (default is ascending order, i.e. ascending=True).\n",
    "\n",
    "The code below demonstrates how to use sort_values with a single column label. The first example sorts by 'yearID' in ascending order, while the second sorts 'playerID' in descending lexicographic (alphabetical) order."
   ]
  },
  {
   "cell_type": "code",
   "execution_count": 7,
   "metadata": {},
   "outputs": [
    {
     "name": "stdout",
     "output_type": "stream",
     "text": [
      "    playerID  yearID teamID  HR\n",
      "0  pedrodu01    2016    BOS  15\n",
      "1  pedrodu01    2017    BOS   7\n",
      "2  troutmi01    2017    LAA  33\n",
      "3   cruzne02    2016    SEA  43\n",
      "4   cruzne02    2017    SEA  39\n",
      "5  troutmi01    2016    LAA  29\n",
      "\n",
      "    playerID  yearID teamID  HR\n",
      "0  pedrodu01    2016    BOS  15\n",
      "3   cruzne02    2016    SEA  43\n",
      "5  troutmi01    2016    LAA  29\n",
      "1  pedrodu01    2017    BOS   7\n",
      "2  troutmi01    2017    LAA  33\n",
      "4   cruzne02    2017    SEA  39\n",
      "\n",
      "    playerID  yearID teamID  HR\n",
      "2  troutmi01    2017    LAA  33\n",
      "5  troutmi01    2016    LAA  29\n",
      "0  pedrodu01    2016    BOS  15\n",
      "1  pedrodu01    2017    BOS   7\n",
      "3   cruzne02    2016    SEA  43\n",
      "4   cruzne02    2017    SEA  39\n",
      "\n"
     ]
    }
   ],
   "source": [
    "# df is predefined\n",
    "print('{}\\n'.format(df))\n",
    "\n",
    "sort1 = df.sort_values('yearID') # it sorts with 'yeaID' and by default ascending = True \n",
    "print('{}\\n'.format(sort1))\n",
    "\n",
    "sort2 = df.sort_values('playerID', ascending=False) # it sorts accroding to 'playerID' and ascending = False so in descending order\n",
    "print('{}\\n'.format(sort2))"
   ]
  },
  {
   "cell_type": "markdown",
   "metadata": {},
   "source": [
    "When sorting with a list of column labels, each additional label is used to break ties. Specifically, label i in the list acts as a tiebreaker for label i - 1.\n",
    "\n",
    "The code below demonstrates how to sort with a list of column labels."
   ]
  },
  {
   "cell_type": "code",
   "execution_count": 8,
   "metadata": {},
   "outputs": [
    {
     "name": "stdout",
     "output_type": "stream",
     "text": [
      "    playerID  yearID teamID  HR\n",
      "0  pedrodu01    2016    BOS  15\n",
      "1  pedrodu01    2017    BOS   7\n",
      "2  troutmi01    2017    LAA  33\n",
      "3   cruzne02    2016    SEA  43\n",
      "4   cruzne02    2017    SEA  39\n",
      "5  troutmi01    2016    LAA  29\n",
      "\n",
      "    playerID  yearID teamID  HR\n",
      "3   cruzne02    2016    SEA  43\n",
      "0  pedrodu01    2016    BOS  15\n",
      "5  troutmi01    2016    LAA  29\n",
      "4   cruzne02    2017    SEA  39\n",
      "1  pedrodu01    2017    BOS   7\n",
      "2  troutmi01    2017    LAA  33\n",
      "\n",
      "    playerID  yearID teamID  HR\n",
      "3   cruzne02    2016    SEA  43\n",
      "5  troutmi01    2016    LAA  29\n",
      "0  pedrodu01    2016    BOS  15\n",
      "4   cruzne02    2017    SEA  39\n",
      "2  troutmi01    2017    LAA  33\n",
      "1  pedrodu01    2017    BOS   7\n",
      "\n"
     ]
    }
   ],
   "source": [
    "# df is predefined\n",
    "print('{}\\n'.format(df))\n",
    "\n",
    "sort1 = df.sort_values(['yearID', 'playerID']) # first it sort with 'yearID' and if yearID is same then sort by playerID\n",
    "print('{}\\n'.format(sort1))\n",
    "\n",
    "sort2 = df.sort_values(['yearID', 'HR'],\n",
    "                       ascending=[True, False]) # same here first it sort with yearID in ascending order then with 'HR' in descending order\n",
    "print('{}\\n'.format(sort2))"
   ]
  },
  {
   "cell_type": "markdown",
   "metadata": {},
   "source": [
    "When using two column labels to sort, the list's first label represents the main sorting criterion, while the second label is used to break ties. In the example with sorting by 'yearID' and 'playerID', the DataFrame is first sorted by year (in ascending order). For identical years, we sort again by player ID (in ascending order).\n",
    "\n",
    "For multi-label inputs to sort_values, we are allowed to specify different sorting orders for each column label. In our second example, we specified that 'yearID' would be sorted in ascending order, while 'HR' would be sorted in descending order."
   ]
  },
  {
   "cell_type": "code",
   "execution_count": null,
   "metadata": {},
   "outputs": [],
   "source": []
  }
 ],
 "metadata": {
  "kernelspec": {
   "display_name": "Python 3",
   "language": "python",
   "name": "python3"
  },
  "language_info": {
   "codemirror_mode": {
    "name": "ipython",
    "version": 3
   },
   "file_extension": ".py",
   "mimetype": "text/x-python",
   "name": "python",
   "nbconvert_exporter": "python",
   "pygments_lexer": "ipython3",
   "version": "3.10.0"
  }
 },
 "nbformat": 4,
 "nbformat_minor": 2
}
