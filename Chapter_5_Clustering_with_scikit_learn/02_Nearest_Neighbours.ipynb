{
 "cells": [
  {
   "cell_type": "code",
   "execution_count": 1,
   "metadata": {},
   "outputs": [],
   "source": [
    "import numpy as np\n",
    "import sklearn"
   ]
  },
  {
   "cell_type": "markdown",
   "metadata": {},
   "source": [
    "# A. Finding the nearest neighbors\n",
    "In Chapter 1, we mentioned that clustering is a method for grouping together similar data observations. Another method for finding similar data observations is the nearest neighbors approach. With this approach, we find the k most similar data observations (i.e. neighbors) for a given data observation (where k represents the number of neighbors).\n",
    "\n",
    "In scikit-learn, we implement the nearest neighbors approach with the NearestNeighbors object (part of the neighbors module).\n",
    "\n",
    "The code below finds the 5 nearest neighbors for a new data observation (new_obs) based on its fitted dataset (data)."
   ]
  },
  {
   "cell_type": "code",
   "execution_count": 3,
   "metadata": {},
   "outputs": [
    {
     "name": "stdout",
     "output_type": "stream",
     "text": [
      "array([[7, 0, 4, 6, 9]], dtype=int64)\n",
      "\n",
      "array([[0.17320508, 0.24494897, 0.24494897, 0.45825757, 0.46904158]])\n",
      "\n",
      "array([[7, 0, 4, 6, 9]], dtype=int64)\n",
      "\n"
     ]
    }
   ],
   "source": [
    "data = np.array([\n",
    "  [5.1, 3.5, 1.4, 0.2],\n",
    "  [4.9, 3. , 1.4, 0.2],\n",
    "  [4.7, 3.2, 1.3, 0.2],\n",
    "  [4.6, 3.1, 1.5, 0.2],\n",
    "  [5. , 3.6, 1.4, 0.2],\n",
    "  [5.4, 3.9, 1.7, 0.4],\n",
    "  [4.6, 3.4, 1.4, 0.3],\n",
    "  [5. , 3.4, 1.5, 0.2],\n",
    "  [4.4, 2.9, 1.4, 0.2],\n",
    "  [4.9, 3.1, 1.5, 0.1]])\n",
    "\n",
    "from sklearn.neighbors import NearestNeighbors\n",
    "nbrs = NearestNeighbors()\n",
    "nbrs.fit(data)\n",
    "new_obs = np.array([[5, 3.5, 1.6, 0.3]])\n",
    "dists, knbrs = nbrs.kneighbors(new_obs) # dists and knbrs are inbuilt values which gives the following relations which are given below\n",
    "\n",
    "# nearest neighbors indexes\n",
    "print('{}\\n'.format(repr(knbrs))) # it tells the index of nearest neighbours \n",
    "# nearest neighbor distances\n",
    "print('{}\\n'.format(repr(dists)))\n",
    "\n",
    "only_nbrs = nbrs.kneighbors(new_obs,return_distance=False) \n",
    "# this makes a function where return of distance is False so it only return knbrs and not dists\n",
    "print('{}\\n'.format(repr(only_nbrs)))"
   ]
  },
  {
   "cell_type": "markdown",
   "metadata": {},
   "source": [
    "The NearestNeighbors object is fitted with a dataset, which is then used as the pool of possible neighbors for new data observations. The kneighbors function takes in new data observation(s) and returns the k nearest neighbors along with their respective distances from the input data observations. Note that the nearest neighbors are the neighbors with the smallest distances from the input data observation. We can choose not to return the distances by setting the return_distance keyword argument to False.\n",
    "\n",
    "The default value for k when initializing the NearestNeighbors object is 5. We can specify a new value using the n_neighbors keyword argument."
   ]
  },
  {
   "cell_type": "code",
   "execution_count": 4,
   "metadata": {},
   "outputs": [
    {
     "name": "stdout",
     "output_type": "stream",
     "text": [
      "array([[7, 0],\n",
      "       [9, 2]], dtype=int64)\n",
      "\n",
      "array([[0.17320508, 0.24494897],\n",
      "       [0.14142136, 0.24494897]])\n",
      "\n"
     ]
    }
   ],
   "source": [
    "data = np.array([\n",
    "  [5.1, 3.5, 1.4, 0.2],\n",
    "  [4.9, 3. , 1.4, 0.2],\n",
    "  [4.7, 3.2, 1.3, 0.2],\n",
    "  [4.6, 3.1, 1.5, 0.2],\n",
    "  [5. , 3.6, 1.4, 0.2],\n",
    "  [5.4, 3.9, 1.7, 0.4],\n",
    "  [4.6, 3.4, 1.4, 0.3],\n",
    "  [5. , 3.4, 1.5, 0.2],\n",
    "  [4.4, 2.9, 1.4, 0.2],\n",
    "  [4.9, 3.1, 1.5, 0.1]])\n",
    "\n",
    "from sklearn.neighbors import NearestNeighbors\n",
    "nbrs = NearestNeighbors(n_neighbors=2)\n",
    "nbrs.fit(data)\n",
    "new_obs = np.array([\n",
    "  [5. , 3.5, 1.6, 0.3],\n",
    "  [4.8, 3.2, 1.5, 0.1]])\n",
    "dists, knbrs = nbrs.kneighbors(new_obs)\n",
    "\n",
    "# nearest neighbors indexes\n",
    "print('{}\\n'.format(repr(knbrs)))\n",
    "# nearest neighbor distances\n",
    "print('{}\\n'.format(repr(dists)))"
   ]
  },
  {
   "cell_type": "code",
   "execution_count": null,
   "metadata": {},
   "outputs": [],
   "source": []
  }
 ],
 "metadata": {
  "kernelspec": {
   "display_name": "Python 3",
   "language": "python",
   "name": "python3"
  },
  "language_info": {
   "codemirror_mode": {
    "name": "ipython",
    "version": 3
   },
   "file_extension": ".py",
   "mimetype": "text/x-python",
   "name": "python",
   "nbconvert_exporter": "python",
   "pygments_lexer": "ipython3",
   "version": "3.10.0"
  }
 },
 "nbformat": 4,
 "nbformat_minor": 2
}
