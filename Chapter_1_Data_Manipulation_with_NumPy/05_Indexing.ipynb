{
 "cells": [
  {
   "cell_type": "code",
   "execution_count": 2,
   "metadata": {},
   "outputs": [],
   "source": [
    "import numpy as np"
   ]
  },
  {
   "cell_type": "markdown",
   "metadata": {},
   "source": [
    "# A. Array accessing"
   ]
  },
  {
   "cell_type": "code",
   "execution_count": 3,
   "metadata": {},
   "outputs": [
    {
     "name": "stdout",
     "output_type": "stream",
     "text": [
      "[[[1 2 3 4]\n",
      "  [2 3 4 5]\n",
      "  [3 4 5 6]]\n",
      "\n",
      " [[4 5 6 7]\n",
      "  [5 6 7 8]\n",
      "  [6 7 8 9]]]\n",
      "4\n",
      "[2 3 4 5]\n",
      "[[1 2 3 4]\n",
      " [2 3 4 5]\n",
      " [3 4 5 6]]\n"
     ]
    }
   ],
   "source": [
    "# accessing array is identical to accesing python list\n",
    "arr3 = np.array([[[1,2,3,4], [2,3,4,5], [3,4,5,6]], [[4,5,6,7], [5,6,7,8], [6,7,8,9]]])\n",
    "print(arr3)\n",
    "print(arr3[0,1,2]) # prints the index 2(of 0d) element of index 1(of 1d) element of index 0(of 2d) element --> 4\n",
    "print(arr3[0,1]) # prints index 1(of 1d) element of index 0(of 2d) element --> [2 3 4 5]\n",
    "print(arr3[0]) # prints the index 0(of 2d) element --> [[1 2 3 4]\n",
    "#                                                       [2 3 4 5]\n",
    "#                                                       [3 4 5 6]]"
   ]
  },
  {
   "cell_type": "markdown",
   "metadata": {},
   "source": [
    "# B. Slicing"
   ]
  },
  {
   "cell_type": "code",
   "execution_count": 4,
   "metadata": {},
   "outputs": [
    {
     "name": "stdout",
     "output_type": "stream",
     "text": [
      "array([1, 2, 3, 4, 5])\n",
      "array([2, 3, 4, 5])\n",
      "array([3, 4])\n",
      "array([1, 2, 3, 4])\n",
      "array([4, 5])\n"
     ]
    }
   ],
   "source": [
    "# slicing means we are only want some part of array and not a complete aray\n",
    "arr = np.array([1,2,3,4,5])\n",
    "print(repr(arr[:])) # it prints complete array\n",
    "print(repr(arr[1:])) # it starts printing from index (1) and prints complete\n",
    "print(repr(arr[2:4])) # it starts from index (2) and prints till index (4) (excluding index 4)\n",
    "print(repr(arr[:-1])) # it prints from index(0) to index(-1 = last index) (excluding last index)\n",
    "print(repr(arr[-2:])) # it prints from index (-2 = second last) to the end"
   ]
  },
  {
   "cell_type": "code",
   "execution_count": 8,
   "metadata": {},
   "outputs": [
    {
     "name": "stdout",
     "output_type": "stream",
     "text": [
      "array([[[1, 2, 3, 4],\n",
      "        [2, 3, 4, 5],\n",
      "        [3, 4, 5, 6]],\n",
      "\n",
      "       [[4, 5, 6, 7],\n",
      "        [5, 6, 7, 8],\n",
      "        [6, 7, 8, 9]]])\n",
      "array([[[4, 5, 6, 7],\n",
      "        [5, 6, 7, 8],\n",
      "        [6, 7, 8, 9]]])\n",
      "array([[3, 4, 5, 6],\n",
      "       [6, 7, 8, 9]])\n",
      "array([[[2, 3, 4, 5],\n",
      "        [3, 4, 5, 6]],\n",
      "\n",
      "       [[5, 6, 7, 8],\n",
      "        [6, 7, 8, 9]]])\n",
      "array([[[2, 3, 4, 5],\n",
      "        [3, 4, 5, 6]]])\n",
      "array([[2, 3, 4, 5],\n",
      "       [3, 4, 5, 6]])\n",
      "array([[3, 4]])\n"
     ]
    }
   ],
   "source": [
    "# for multidimensional array we use (,)\n",
    "arr = np.array([[[1,2,3,4], [2,3,4,5], [3,4,5,6]], [[4,5,6,7], [5,6,7,8], [6,7,8,9]]])\n",
    "print(repr(arr[:])) # it works on 2nd dimension and prints it's 0th and 1th index (means complete array)\n",
    "print(repr(arr[1:])) # it works on 2nd dimension and prints from index 1 (means second half part [[4,5,6,7], [5,6,7,8], [6,7,8,9]]) \n",
    "print(repr(arr[:, -1])) # before (,) part works on 2nd dimension then after (,) it goes in 1st dimension and print -1th index element of 2nd dimension()\n",
    "print(repr(arr[:, 1:])) # before (,) part works on 2nd dimension then after (,) it goes in 1st dimension and print from index 1 till last element of each and every 3nd dimension element\n",
    "print(repr(arr[0:1, 1:])) # before (,) part works on 2nd dimension but only on index 0 of it then go to 1st dimension and start print from index 1 till last element of it\n",
    "print(repr(arr[0, 1:])) # before (,) part works on 2nd dimension but only go in index 0 of it then go to 1st dimension and start printing it from it's index 1 till it's last index\n",
    "print(repr(arr[0:1,1,1:3])) # before first (,) part works on 2nd dimension but only go in index 0 of it then go to 1st dimension and only of it's index 1 then go to 0th dimension and start printing from it's index 1 to index 3 (excluding index 3)"
   ]
  },
  {
   "cell_type": "markdown",
   "metadata": {},
   "source": [
    "# C. Argmin and argmax"
   ]
  },
  {
   "cell_type": "code",
   "execution_count": 9,
   "metadata": {},
   "outputs": [
    {
     "name": "stdout",
     "output_type": "stream",
     "text": [
      "2\n",
      "1\n",
      "5\n"
     ]
    }
   ],
   "source": [
    "# np.argmin and np.argmax are use to get the index of minimum and maximum value element in an array\n",
    "arr = np.array([[-2,-1,-3],[4,5,-6],[-3,9,1]])\n",
    "print(np.argmin(arr[0])) # it gives the index of minimum among 0d elements of 1d 0th index element\n",
    "print(np.argmax(arr[2])) # it gives the index of maximum among 0d elements of 1d 2nd index element\n",
    "print(np.argmin(arr)) # it gives the index of minimum element among all the elements of array"
   ]
  },
  {
   "cell_type": "code",
   "execution_count": 10,
   "metadata": {},
   "outputs": [
    {
     "name": "stdout",
     "output_type": "stream",
     "text": [
      "array([2, 0, 1], dtype=int64)\n",
      "array([2, 2, 0], dtype=int64)\n",
      "array([2, 2, 0], dtype=int64)\n"
     ]
    }
   ],
   "source": [
    "# it is also use with (axis) keyword to specifies which dimension to apply the operation\n",
    "arr = np.array([[-2,-1,-3],[4,5,-6],[-3,9,1]])\n",
    "print(repr(np.argmin(arr, axis = 0))) # axis 0 means it gives the row index at which value is minimum, for every column\n",
    "print(repr(np.argmin(arr, axis = 1))) # it gives the column index at which value is minimum, for every row\n",
    "print(repr(np.argmin(arr, axis = -1))) # axis -1 means last dimension so in our case it is axis 1"
   ]
  },
  {
   "cell_type": "code",
   "execution_count": null,
   "metadata": {},
   "outputs": [],
   "source": []
  }
 ],
 "metadata": {
  "kernelspec": {
   "display_name": "Python 3",
   "language": "python",
   "name": "python3"
  },
  "language_info": {
   "codemirror_mode": {
    "name": "ipython",
    "version": 3
   },
   "file_extension": ".py",
   "mimetype": "text/x-python",
   "name": "python",
   "nbconvert_exporter": "python",
   "pygments_lexer": "ipython3",
   "version": "3.10.0"
  }
 },
 "nbformat": 4,
 "nbformat_minor": 2
}
