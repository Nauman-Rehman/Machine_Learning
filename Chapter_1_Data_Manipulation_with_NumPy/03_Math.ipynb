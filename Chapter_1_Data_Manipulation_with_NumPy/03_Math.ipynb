{
 "cells": [
  {
   "cell_type": "code",
   "execution_count": 2,
   "metadata": {},
   "outputs": [],
   "source": [
    "import numpy as np"
   ]
  },
  {
   "cell_type": "markdown",
   "metadata": {},
   "source": [
    "# A. Arithmetic"
   ]
  },
  {
   "cell_type": "code",
   "execution_count": 3,
   "metadata": {},
   "outputs": [
    {
     "name": "stdout",
     "output_type": "stream",
     "text": [
      "array([[2, 3],\n",
      "       [4, 5]])\n",
      "array([[-0.2,  0.8],\n",
      "       [ 1.8,  2.8]])\n",
      "array([[2, 4],\n",
      "       [6, 8]])\n",
      "array([[0.5, 1. ],\n",
      "       [1.5, 2. ]])\n",
      "array([[0, 1],\n",
      "       [1, 2]], dtype=int32)\n",
      "array([[ 1,  4],\n",
      "       [ 9, 16]])\n",
      "array([[1.        , 1.41421356],\n",
      "       [1.73205081, 2.        ]])\n"
     ]
    }
   ],
   "source": [
    "arr = np.array([[1,2], [3,4]])\n",
    "# add 1 to element values\n",
    "print(repr(arr + 1))\n",
    "# subtract element values by 1.2\n",
    "print(repr(arr - 1.2))\n",
    "# double element values\n",
    "print(repr(arr * 2))\n",
    "# half element values\n",
    "print(repr(arr / 2))\n",
    "# integer division (half)\n",
    "print(repr(arr // 2)) # this type of division prints only integer value and not show fractional part\n",
    "# square element values\n",
    "print(repr(arr ** 2))\n",
    "# square root element values\n",
    "print(repr(arr ** 0.5))"
   ]
  },
  {
   "cell_type": "code",
   "execution_count": 4,
   "metadata": {},
   "outputs": [
    {
     "name": "stdout",
     "output_type": "stream",
     "text": [
      "the array of celcius temparature is: [  0. -20. -10. -40.]\n"
     ]
    }
   ],
   "source": [
    "# we could convert a dataset of Fahrenhiet temparatures to their equivalent Celcius form\n",
    "def f2c(temps):\n",
    "    return (5/9)*(temps - 32)\n",
    "\n",
    "fahrenheits = np.array([32, -4,14, -40])\n",
    "celcius = f2c (fahrenheits)\n",
    "print(f\"the array of celcius temparature is: {celcius}\")"
   ]
  },
  {
   "cell_type": "markdown",
   "metadata": {},
   "source": [
    "# B. Non-linear function"
   ]
  },
  {
   "cell_type": "code",
   "execution_count": 13,
   "metadata": {},
   "outputs": [
    {
     "name": "stdout",
     "output_type": "stream",
     "text": [
      "array([[ 2.71828183,  7.3890561 ],\n",
      "       [20.08553692, 54.59815003]])\n",
      "array([[ 2.,  4.],\n",
      "       [ 8., 16.]])\n",
      "[[ 1.         10.        ]\n",
      " [ 2.71828183  3.14159265]]\n",
      "array([[0.        , 2.30258509],\n",
      "       [1.        , 1.14472989]])\n",
      "array([[0.        , 1.        ],\n",
      "       [0.43429448, 0.49714987]])\n"
     ]
    }
   ],
   "source": [
    "arr = np.array([[1,2], [3,4]])\n",
    "\n",
    "# raised to power of e\n",
    "print(repr(np.exp(arr)))\n",
    "# raised to power of 2\n",
    "print(repr(np.exp2(arr)))\n",
    "# np.e represents the constant (e) , np.pi represents the constant (3.14,pi)\n",
    "arr2 = np.array([[1,10], [np.e,np.pi]]) \n",
    "print(arr2)\n",
    "# natural logarithm\n",
    "print(repr(np.log(arr2)))\n",
    "# base 10 logarithm\n",
    "print(repr(np.log10(arr2)))"
   ]
  },
  {
   "cell_type": "code",
   "execution_count": 6,
   "metadata": {},
   "outputs": [
    {
     "name": "stdout",
     "output_type": "stream",
     "text": [
      "array([[ 3,  9],\n",
      "       [27, 81]], dtype=int32)\n",
      "array([[ 10.2,  16. ],\n",
      "       [ 27. , 625. ]])\n"
     ]
    }
   ],
   "source": [
    "# to do a regular power operation with any base, we use np.power. The first argument to the function is the base,\n",
    "# while the second is the power. If the base or power is an array rather than a single number,\n",
    "# the operation is applied to every element in the array.\n",
    "arr =np.array([[1,2],[3,4]])\n",
    "# raise 3 to power of each number in arr\n",
    "print(repr(np.power(3,arr)))\n",
    "arr2 = np.array([[10.2,4], [3,5]])\n",
    "# raise arr2 to power of each numberin arr\n",
    "print(repr(np.power(arr2,arr))) "
   ]
  },
  {
   "cell_type": "markdown",
   "metadata": {},
   "source": [
    "# C. Matrix multiplication"
   ]
  },
  {
   "cell_type": "code",
   "execution_count": 12,
   "metadata": {},
   "outputs": [
    {
     "name": "stdout",
     "output_type": "stream",
     "text": [
      "27\n",
      "[[1 2]\n",
      " [3 4]\n",
      " [5 6]]\n",
      "[[-1  0  1  2]\n",
      " [ 3  2 -4  2]]\n",
      "array([[  5,   4,  -7,   6],\n",
      "       [  9,   8, -13,  14],\n",
      "       [ 13,  12, -19,  22]])\n"
     ]
    }
   ],
   "source": [
    "# when both matrices are 1d then their multiplication is the dot product\n",
    "# Note that the dimensions of the two input matrices must be valid for a matrix multiplication.\n",
    "# Specifically, the second dimension(no. of columns) of the first matrix must equal to the first dimension(no. of rows) of the second matrix other np.matmul will result in value error\n",
    "\n",
    "arr1 = np.array([1,2,3])\n",
    "arr2 = np.array([-3,0,10])\n",
    "print(np.matmul(arr1,arr2))\n",
    "\n",
    "arr3 = np.array([[1,2], [3,4], [5,6]]) # here number of columns is 2\n",
    "arr4 = np.array([[-1,0,1,2], [3,2,-4,2]]) # here number of rows is 2 \n",
    "print(arr3)\n",
    "print(arr4)\n",
    "print(repr(np.matmul(arr3,arr4)))\n",
    "\n",
    "# The below line will show error if uncomment it\n",
    "# print(repr(np.matmul(arr4, arr3))) # because number of columns of arr4(4) is not equal to the number of rows of arr3(3)"
   ]
  },
  {
   "cell_type": "code",
   "execution_count": null,
   "metadata": {},
   "outputs": [],
   "source": []
  }
 ],
 "metadata": {
  "kernelspec": {
   "display_name": "Python 3",
   "language": "python",
   "name": "python3"
  },
  "language_info": {
   "codemirror_mode": {
    "name": "ipython",
    "version": 3
   },
   "file_extension": ".py",
   "mimetype": "text/x-python",
   "name": "python",
   "nbconvert_exporter": "python",
   "pygments_lexer": "ipython3",
   "version": "3.10.0"
  }
 },
 "nbformat": 4,
 "nbformat_minor": 2
}
