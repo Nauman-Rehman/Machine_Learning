{
 "cells": [
  {
   "cell_type": "code",
   "execution_count": 1,
   "metadata": {},
   "outputs": [],
   "source": [
    "import numpy as np"
   ]
  },
  {
   "cell_type": "markdown",
   "metadata": {},
   "source": [
    "# A. Saving\n",
    "##### Save the data in a file for future use. "
   ]
  },
  {
   "cell_type": "markdown",
   "metadata": {},
   "source": [
    "##### The first argument for the function is the name/path of the file we want to save our data to. The file name/path should have a \".npy\" extension. If it does not, then (np.save) will append the \".npy\" extension to it.\n",
    "##### The second argument for np.save is the NumPy data we want to save. The function has no return value. Also, the format of the \".npy\" files when viewed with a text editor is largely gibberish when viewed with a text editor."
   ]
  },
  {
   "cell_type": "code",
   "execution_count": 2,
   "metadata": {},
   "outputs": [],
   "source": [
    "arr = np.array([1,2,3])\n",
    "# Saves to 'arr.npy'\n",
    "np.save('arr.npy',arr)\n",
    "# Also saves to 'arr.npy'\n",
    "np.save('arr',arr)"
   ]
  },
  {
   "cell_type": "markdown",
   "metadata": {},
   "source": [
    "# B. Loading \n",
    "##### After saving our data, we can load it again using (np.load). The function's required argument is the file name/path that contains the saved data. It returns the NumPy data exactly as it was saved.\n",
    "##### Note that (np.load) will not append the \".npy\" extension to the file name/path if it is not there."
   ]
  },
  {
   "cell_type": "code",
   "execution_count": 3,
   "metadata": {},
   "outputs": [
    {
     "name": "stdout",
     "output_type": "stream",
     "text": [
      "array([1, 2, 3])\n"
     ]
    }
   ],
   "source": [
    "arr = np.array([1,2,3])\n",
    "np.save('arr.npy',arr)\n",
    "load_arr = np.load('arr.npy')\n",
    "print(repr(load_arr))\n",
    "\n",
    "# Will result in a FileNotFoundError: If we uncomment line and run agin.\n",
    "# load_arr = np.load('arr')"
   ]
  },
  {
   "cell_type": "code",
   "execution_count": null,
   "metadata": {},
   "outputs": [],
   "source": []
  }
 ],
 "metadata": {
  "kernelspec": {
   "display_name": "Python 3",
   "language": "python",
   "name": "python3"
  },
  "language_info": {
   "codemirror_mode": {
    "name": "ipython",
    "version": 3
   },
   "file_extension": ".py",
   "mimetype": "text/x-python",
   "name": "python",
   "nbconvert_exporter": "python",
   "pygments_lexer": "ipython3",
   "version": "3.10.0"
  }
 },
 "nbformat": 4,
 "nbformat_minor": 2
}
