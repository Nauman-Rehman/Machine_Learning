{
 "cells": [
  {
   "cell_type": "code",
   "execution_count": 1,
   "metadata": {},
   "outputs": [],
   "source": [
    "import numpy as np"
   ]
  },
  {
   "cell_type": "markdown",
   "metadata": {},
   "source": [
    "# A. Ranged data"
   ]
  },
  {
   "cell_type": "code",
   "execution_count": 4,
   "metadata": {},
   "outputs": [
    {
     "name": "stdout",
     "output_type": "stream",
     "text": [
      "array([0, 1, 2, 3, 4])\n",
      "array([0., 1., 2., 3., 4., 5.])\n",
      "array([-1,  0,  1,  2,  3])\n",
      "array([-1.5,  0.5,  2.5])\n"
     ]
    }
   ],
   "source": [
    "# it only prints with a gap of 1 \n",
    "\n",
    "arr = np.arange(5) # it prints 0,1,2,3,4 (means less than the value written in brackets)\n",
    "print(repr(arr))\n",
    "\n",
    "arr = np.arange(5.1) # it prints (0., 1., 2., 3., 4., 5.) (means less than the value written in brackets)\n",
    "print(repr(arr))\n",
    "\n",
    "arr = np.arange(-1,4) # it starts from -1 and stops before range, so prints (-1,0,1,2,3)\n",
    "print(repr(arr))\n",
    "\n",
    "arr = np.arange(-1.5,4,2) # it starts printing from -1.5 to a range of 4 with a gap of 2 so prints (-1.5, 0.5, 2.5)\n",
    "print(repr(arr))"
   ]
  },
  {
   "cell_type": "code",
   "execution_count": 6,
   "metadata": {},
   "outputs": [
    {
     "name": "stdout",
     "output_type": "stream",
     "text": [
      "[1.         1.36363636 1.72727273 2.09090909 2.45454545 2.81818182\n",
      " 3.18181818 3.54545455 3.90909091 4.27272727 4.63636364 5.        ]\n",
      "[1. 2. 3. 4.]\n",
      "[1.  1.5 2.  2.5 3.  3.5 4. ]\n",
      "[1.   1.75 2.5  3.25]\n"
     ]
    }
   ],
   "source": [
    "lspace = np.linspace(1,5,12) # this function is little hard to understand\n",
    "# so here in the above line we can see three number (1,5,12), this function makes total of 12 numbers such that first number is \n",
    "# (1), last number is (5) and the difference between a number and it's previous one is same for all. Let's take some examples\n",
    "print(lspace)\n",
    "l2space = np.linspace(1,4,4) # so it makes total of 4 numbers starts from (1) and ends at (4) and gap between every two consecutive is equal \n",
    "# so output when print --> 1., 2., 3., 4.\n",
    "print(l2space)\n",
    "l3space = np.linspace(1,4,7) # so it makes total of 7 numbers starts from (1) and ends at (4) and gap between every two consecutive is equal\n",
    "# so output when print --> 1., 1.5, 2., 2.5, 3., 3.5, 4.\n",
    "print(l3space)\n",
    "l4space = np.linspace(1,4,4, endpoint = False) # by making endpoint = False the endpoint (means 4) is now not included\n",
    "# so now it breaks it in 4 parts with equal gap without including the 4\n",
    "print(l4space)"
   ]
  },
  {
   "cell_type": "markdown",
   "metadata": {},
   "source": [
    "# B. Reshaping data"
   ]
  },
  {
   "cell_type": "code",
   "execution_count": null,
   "metadata": {},
   "outputs": [],
   "source": [
    "arr5 = np.arange(240)\n",
    "print(arr5.reshape(16,15)) # makes a 2d matrix of size 16x15\n",
    "# the size of matrix must cover all the elements of the array\n",
    "print(arr5.reshape(5,6,8)) # it prints a 3d matrix of size 5x6x8\n",
    "print(arr5.reshape(2,4,5,6)) # it makes a 4d matrix of size 2x4x5x6\n",
    "# if i don't know the factors of 240 to reshape it then i use -1 in one of those place where i don't know\n",
    "print(arr5.reshape(5,-1,8)) # it prints a 3d matrix of size 5x6x8 \n",
    "# (it takes 6 automatically at place of -1 because only 6 completes the requirement to complete the product equal to 240 )"
   ]
  },
  {
   "cell_type": "code",
   "execution_count": 20,
   "metadata": {},
   "outputs": [
    {
     "name": "stdout",
     "output_type": "stream",
     "text": [
      "array([[0, 1, 2, 3],\n",
      "       [4, 5, 6, 7]])\n",
      "arr shape: (2, 4)\n",
      "array([0, 1, 2, 3, 4, 5, 6, 7])\n",
      "flattened shape: []\n",
      "array([[0, 1, 2, 3],\n",
      "       [4, 5, 6, 7]])\n",
      "[0 1 2 3 4 5 6 7]\n",
      "array([[0, 1, 2, 3],\n",
      "       [4, 5, 6, 7]])\n",
      "0 1 2 3 4 5 6 7 "
     ]
    }
   ],
   "source": [
    "# in order to regain the initial 1d shape of array after reshaping it at by above method we use this \n",
    "arr = np.arange(8)\n",
    "arr = np.reshape(arr, (2,4)) # this is another format of reshaping\n",
    "flattened = arr.flatten() # arr is now flattened in 1d array\n",
    "print(repr(arr))\n",
    "print('arr shape: {}'. format(arr.shape))\n",
    "print(repr(flattened))\n",
    "print('flattened shape: []'. format(flattened.shape))\n",
    "# .flatten makes a copy because of which the shape of original one remains changed and not become flat\n",
    "\n",
    "# another function (ravel) to regain the initial (1d array)\n",
    "arr = np.reshape(arr, (2,4))\n",
    "print(repr(arr))\n",
    "arr = arr.ravel()\n",
    "print(arr)\n",
    "\n",
    "# one more function (flat) to regain the initial 1d shape\n",
    "arr = np.reshape(arr, (2,4))\n",
    "print(repr(arr))\n",
    "for i in arr.flat: # flat prints in another way\n",
    "    print(i,end = \" \") \n"
   ]
  },
  {
   "cell_type": "markdown",
   "metadata": {},
   "source": [
    "# C. Transpose"
   ]
  },
  {
   "cell_type": "code",
   "execution_count": 22,
   "metadata": {},
   "outputs": [
    {
     "name": "stdout",
     "output_type": "stream",
     "text": [
      "[[5 4 6]\n",
      " [7 9 8]\n",
      " [3 2 1]]\n",
      "[[5 7 3]\n",
      " [4 9 2]\n",
      " [6 8 1]]\n",
      "[[5 7 3]\n",
      " [4 9 2]\n",
      " [6 8 1]]\n"
     ]
    }
   ],
   "source": [
    "x = [[5,4,6], [7,9,8], [3,2,1]]\n",
    "ar = np.array(x)\n",
    "print(ar)\n",
    "print(ar.T) # it prints the transpose of the array , it is an attribute\n",
    "# and another function is \n",
    "print(np.transpose(ar)) # this is a function "
   ]
  },
  {
   "cell_type": "code",
   "execution_count": 24,
   "metadata": {},
   "outputs": [
    {
     "name": "stdout",
     "output_type": "stream",
     "text": [
      "[[[ 0  1]\n",
      "  [ 2  3]\n",
      "  [ 4  5]\n",
      "  [ 6  7]]\n",
      "\n",
      " [[ 8  9]\n",
      "  [10 11]\n",
      "  [12 13]\n",
      "  [14 15]]\n",
      "\n",
      " [[16 17]\n",
      "  [18 19]\n",
      "  [20 21]\n",
      "  [22 23]]]\n",
      "[[[ 0  8 16]\n",
      "  [ 1  9 17]]\n",
      "\n",
      " [[ 2 10 18]\n",
      "  [ 3 11 19]]\n",
      "\n",
      " [[ 4 12 20]\n",
      "  [ 5 13 21]]\n",
      "\n",
      " [[ 6 14 22]\n",
      "  [ 7 15 23]]]\n",
      "arr shape: (3, 4, 2)\n",
      "transposed shape: (4, 2, 3)\n"
     ]
    }
   ],
   "source": [
    "arr = np.arange(24)\n",
    "arr = np.reshape(arr, (3,4,2))\n",
    "# transposing decided by the axes\n",
    "transposed = np.transpose(arr, axes = (1, 2, 0))\n",
    "# in the above line we transpose it in our suitable way (1,2,0) means pattern (3,4,2) becomes (4,2,3)\n",
    "# index 0 is filled by a number which is at index 1 = (4), index 1 is filled by a number which is at index 2 = (2), index 2 is filled by a number which is at index 0 = (3)\n",
    "# so the pattern will be --> total 4 sets, each set contains 2 list, each list contains 3 elements\n",
    "print(arr)\n",
    "print(transposed)\n",
    "print('arr shape: {}'.format(arr.shape))\n",
    "print('transposed shape: {}'.format(transposed.shape))"
   ]
  },
  {
   "cell_type": "markdown",
   "metadata": {},
   "source": [
    "# D. Zeros and ones"
   ]
  },
  {
   "cell_type": "code",
   "execution_count": 25,
   "metadata": {},
   "outputs": [
    {
     "name": "stdout",
     "output_type": "stream",
     "text": [
      "[[0. 0. 0. 0. 0.]\n",
      " [0. 0. 0. 0. 0.]\n",
      " [0. 0. 0. 0. 0.]\n",
      " [0. 0. 0. 0. 0.]]\n",
      "[[[1. 1. 1. 1. 1. 1.]\n",
      "  [1. 1. 1. 1. 1. 1.]\n",
      "  [1. 1. 1. 1. 1. 1.]\n",
      "  [1. 1. 1. 1. 1. 1.]]\n",
      "\n",
      " [[1. 1. 1. 1. 1. 1.]\n",
      "  [1. 1. 1. 1. 1. 1.]\n",
      "  [1. 1. 1. 1. 1. 1.]\n",
      "  [1. 1. 1. 1. 1. 1.]]]\n"
     ]
    }
   ],
   "source": [
    "arr0Ka = np.zeros((4,5)) # it makes a 2d array in which 2nd dimension contains 4 elements and 1st dimension contains 5 elements and all elements of 1st dimension is 1 [matrix 4x5]\n",
    "arr1Ka = np.ones(((2,4,6))) # it makes a 3d array in which 3rd dimension contains 2 elements, 2nd dimension contains 4 elements and 1st dimension contains 6 elements and all elements of 1st dimesion is 1 [matrix 2x4x6]\n",
    "print(arr0Ka)\n",
    "print(arr1Ka)"
   ]
  },
  {
   "cell_type": "code",
   "execution_count": 26,
   "metadata": {},
   "outputs": [
    {
     "name": "stdout",
     "output_type": "stream",
     "text": [
      "array([[0, 0],\n",
      "       [0, 0]])\n"
     ]
    }
   ],
   "source": [
    "arr = np.array([[1,2], [3,4]])\n",
    "print(repr(np.zeros_like(arr))) # it prints an array of 0 in the format of (arr) array\n"
   ]
  },
  {
   "cell_type": "code",
   "execution_count": 30,
   "metadata": {},
   "outputs": [
    {
     "name": "stdout",
     "output_type": "stream",
     "text": [
      "[0. 0. 0. 0. 0.]\n",
      "[[0. 0. 0. 0. 0.]]\n",
      "[[1.]\n",
      " [1.]\n",
      " [1.]\n",
      " [1.]\n",
      " [1.]]\n"
     ]
    }
   ],
   "source": [
    "arr = np.zeros(5)\n",
    "print(arr)\n",
    "temp = np.reshape(arr, (1,5))\n",
    "print(temp)\n",
    "arr2 = np.ones_like(np.transpose(temp))\n",
    "print(arr2)"
   ]
  },
  {
   "cell_type": "code",
   "execution_count": null,
   "metadata": {},
   "outputs": [],
   "source": []
  }
 ],
 "metadata": {
  "kernelspec": {
   "display_name": "Python 3",
   "language": "python",
   "name": "python3"
  },
  "language_info": {
   "codemirror_mode": {
    "name": "ipython",
    "version": 3
   },
   "file_extension": ".py",
   "mimetype": "text/x-python",
   "name": "python",
   "nbconvert_exporter": "python",
   "pygments_lexer": "ipython3",
   "version": "3.10.0"
  }
 },
 "nbformat": 4,
 "nbformat_minor": 2
}
