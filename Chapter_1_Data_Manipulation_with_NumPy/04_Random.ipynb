{
 "cells": [
  {
   "cell_type": "code",
   "execution_count": 2,
   "metadata": {},
   "outputs": [],
   "source": [
    "import numpy as np"
   ]
  },
  {
   "cell_type": "markdown",
   "metadata": {},
   "source": [
    "# A. Random integers"
   ]
  },
  {
   "cell_type": "code",
   "execution_count": 10,
   "metadata": {},
   "outputs": [
    {
     "name": "stdout",
     "output_type": "stream",
     "text": [
      "0\n",
      "3\n",
      "7\n",
      "array([[8, 7],\n",
      "       [8, 0]])\n",
      "3\n"
     ]
    }
   ],
   "source": [
    "# np.ranodm generates a random number while np.random.randint generates a random integer\n",
    "\n",
    "print(np.random.randint(5)) # it prints a random integer in range [0,5) (5 is excluded)\n",
    "print(np.random.randint(5)) # it prints a random integer in range [0,5) (5 is excluded)\n",
    "print(np.random.randint(5, high = 10)) # it prints a random integer in range [5,10) (10 is excluded) \n",
    "\n",
    "random_arr = np.random.randint(-3, high=14, size=(2,2)) # it makes a matrix or array of size 2x2 in which every number is in range [-3,14)\n",
    "print(repr(random_arr))\n",
    "print(np.random.randint(5, high = None)) # in this case the upper argument will become 5 and lower argument 0 --> range [0,5)"
   ]
  },
  {
   "cell_type": "markdown",
   "metadata": {},
   "source": [
    "# B. Utility functions "
   ]
  },
  {
   "cell_type": "code",
   "execution_count": 17,
   "metadata": {},
   "outputs": [
    {
     "name": "stdout",
     "output_type": "stream",
     "text": [
      "5\n",
      "array([[15, 75],\n",
      "       [12, 78]])\n",
      "8\n",
      "array([[18, 75],\n",
      "       [25, 46]])\n",
      "5\n",
      "array([[15, 75],\n",
      "       [12, 78]])\n"
     ]
    }
   ],
   "source": [
    "# by using (np.random)\n",
    "# (np.random.seed) function allows us to set the random seed, which allows us to control the outputs of the pseudo-random functions\n",
    "# the function takes in a single integer as an argument, representing the random seed.\n",
    "np.random.seed(1)\n",
    "print(np.random.randint(10))\n",
    "random_arr = np.random.randint(3, high=100, size=(2,2))\n",
    "print(repr(random_arr))\n",
    "\n",
    "# new seed\n",
    "np.random.seed(2)\n",
    "print(np.random.randint(10))\n",
    "random_arr = np.random.randint(3, high=100, size=(2,2))\n",
    "print(repr(random_arr))\n",
    "\n",
    "# original seed\n",
    "np.random.seed(1)\n",
    "print(np.random.randint(10))\n",
    "random_arr = np.random.randint(3, high=100, size=(2,2))\n",
    "print(repr(random_arr))\n",
    "\n",
    "# the output of 1st and 3rd are same because we set seed equal to 1 for both but there is condition that the same seed array also have same low,high,size\n",
    "# or another use of this is that no matter how many times you run it, it will give the same output if we set a seed before\n"
   ]
  },
  {
   "cell_type": "code",
   "execution_count": 18,
   "metadata": {},
   "outputs": [
    {
     "name": "stdout",
     "output_type": "stream",
     "text": [
      "array([3, 4, 2, 5, 1])\n",
      "array([5, 3, 4, 2, 1])\n",
      "array([[4, 5, 6],\n",
      "       [7, 8, 9],\n",
      "       [1, 2, 3]])\n"
     ]
    }
   ],
   "source": [
    "# The (np.random.shuffle) function allows us to randomly shuffle an array. \n",
    "# Note that the shuffling happens in place (i.e. no raturn value), and shuffling muti-dimensional arrays only shuffles the first dimension\n",
    "vec = np.array([1,2,3,4,5])\n",
    "np.random.shuffle(vec)\n",
    "print(repr(vec))\n",
    "np.random.shuffle(vec)\n",
    "print(repr(vec))\n",
    "\n",
    "matrix = np.array([[1,2,3],[4,5,6],[7,8,9]])\n",
    "np.random.shuffle(matrix)\n",
    "print(repr(matrix))"
   ]
  },
  {
   "cell_type": "markdown",
   "metadata": {},
   "source": [
    "# C. Distributions"
   ]
  },
  {
   "cell_type": "code",
   "execution_count": 22,
   "metadata": {},
   "outputs": [
    {
     "name": "stdout",
     "output_type": "stream",
     "text": [
      "0.4125388415030261\n",
      "-1.3735661486123956\n",
      "array([0.62402999, 0.66063573, 0.29849529])\n",
      "array([[ 0.74905091, -1.33424171],\n",
      "       [-2.7177132 ,  0.9639183 ]])\n"
     ]
    }
   ],
   "source": [
    "# we can use (np.random.uniform) to draw pseudo- random real numbers from a uniform distribution\n",
    "# it prints out random probability of an event\n",
    "print(np.random.uniform()) # default range is [0.0,1.0)\n",
    "print(np.random.uniform(low = -1.5, high = 2.2))\n",
    "print(repr(np.random.uniform(size=3)))\n",
    "print(repr(np.random.uniform(low = -3.4, high = 5.9, size = (2,2))))\n"
   ]
  },
  {
   "cell_type": "code",
   "execution_count": 3,
   "metadata": {},
   "outputs": [
    {
     "name": "stdout",
     "output_type": "stream",
     "text": [
      "1.64473389922641\n",
      "-5.58278115940801\n",
      "array([[ 1.45317413, -1.85786379],\n",
      "       [12.19198979, -5.90545622]])\n"
     ]
    }
   ],
   "source": [
    "# another popular distribution we can sample from is the normal (Gaussian) distribution. The function we use is (np.random.normal)\n",
    "print(np.random.normal())\n",
    "print(np.random.normal(loc = 1.5, scale=3.5))\n",
    "# here (loc) represents mean, (scale) represents standard deviation\n",
    "print(repr(np.random.normal(loc=-2.4, scale=4.0, size=(2,2)))) "
   ]
  },
  {
   "cell_type": "markdown",
   "metadata": {},
   "source": [
    "# D. Custom sampling"
   ]
  },
  {
   "cell_type": "code",
   "execution_count": 5,
   "metadata": {},
   "outputs": [
    {
     "name": "stdout",
     "output_type": "stream",
     "text": [
      "red\n",
      "array(['green', 'blue'], dtype='<U5')\n",
      "array([['blue', 'red'],\n",
      "       ['red', 'red']], dtype='<U5')\n"
     ]
    }
   ],
   "source": [
    "colors = ['red', 'blue', 'green']\n",
    "print(np.random.choice(colors)) # it does a random choice in the given colors and print that one\n",
    "print(repr(np.random.choice(colors, size=2)))\n",
    "print(repr(np.random.choice(colors, size=(2,2), p =[0.8, 0.19, 0.01])))\n",
    "# in the above line keyword (p) rsepresents the probabilities of each element in the input distribution\n",
    "# note thet the list of probabilities for p must sum to 1-"
   ]
  },
  {
   "cell_type": "code",
   "execution_count": null,
   "metadata": {},
   "outputs": [],
   "source": []
  }
 ],
 "metadata": {
  "kernelspec": {
   "display_name": "Python 3",
   "language": "python",
   "name": "python3"
  },
  "language_info": {
   "codemirror_mode": {
    "name": "ipython",
    "version": 3
   },
   "file_extension": ".py",
   "mimetype": "text/x-python",
   "name": "python",
   "nbconvert_exporter": "python",
   "pygments_lexer": "ipython3",
   "version": "3.10.0"
  }
 },
 "nbformat": 4,
 "nbformat_minor": 2
}
