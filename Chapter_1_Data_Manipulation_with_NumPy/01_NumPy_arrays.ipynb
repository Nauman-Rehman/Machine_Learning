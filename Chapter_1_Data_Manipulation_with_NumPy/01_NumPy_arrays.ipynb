{
 "cells": [
  {
   "cell_type": "markdown",
   "metadata": {},
   "source": [
    "# A. Arrays"
   ]
  },
  {
   "cell_type": "code",
   "execution_count": 1,
   "metadata": {},
   "outputs": [
    {
     "name": "stdout",
     "output_type": "stream",
     "text": [
      "array([-1.,  2.,  5.], dtype=float32)\n",
      "[-1.  2.  5.]\n"
     ]
    }
   ],
   "source": [
    "import numpy as np\n",
    "arr = np.array([-1, 2, 5], dtype = np.float32)\n",
    "print(repr(arr)) # it prints array with its datatype\n",
    "print(arr) # it prints only array"
   ]
  },
  {
   "cell_type": "code",
   "execution_count": 5,
   "metadata": {},
   "outputs": [
    {
     "name": "stdout",
     "output_type": "stream",
     "text": [
      "array([ 2,  6,  3,  2, 32])\n",
      "int32\n"
     ]
    }
   ],
   "source": [
    "arr1 = np.array([2,6,3,2,32])\n",
    "print(repr(arr1)) # all elements consider as int32 (32 means 32 bit) \n",
    "print(arr1.dtype)"
   ]
  },
  {
   "cell_type": "code",
   "execution_count": 6,
   "metadata": {},
   "outputs": [
    {
     "name": "stdout",
     "output_type": "stream",
     "text": [
      "array([2.000e+00, 3.334e+03, 5.670e+00, 4.376e+01, 3.240e+02])\n",
      "float64\n"
     ]
    }
   ],
   "source": [
    "arr2 = np.array([2,3334,5.67,43.76,324]) # it contains some integer and some float\n",
    "print(repr(arr2))\n",
    "print(arr2.dtype) # all the elements considered as float64 (64 means 64 bit)"
   ]
  },
  {
   "cell_type": "code",
   "execution_count": 7,
   "metadata": {},
   "outputs": [
    {
     "name": "stdout",
     "output_type": "stream",
     "text": [
      "array(['name', 'animal', 'jungle', 'sky'], dtype='<U6')\n",
      "<U6\n"
     ]
    }
   ],
   "source": [
    "arr3 = np.array([\"name\",\"animal\",\"jungle\",\"sky\"])\n",
    "print(repr(arr3))\n",
    "print(arr3.dtype) # all are considered as string"
   ]
  },
  {
   "cell_type": "code",
   "execution_count": 2,
   "metadata": {},
   "outputs": [
    {
     "name": "stdout",
     "output_type": "stream",
     "text": [
      "array(['1', '4', 'name', '5.346', '34534', 'A'], dtype='<U32')\n"
     ]
    }
   ],
   "source": [
    "# what is the type of numpy array if python list have elements of more than one datatype\n",
    "\n",
    "arr4 = np.array([1,4,\"name\",5.346,34534,'A']) # all will consider as string\n",
    "print(repr(arr4))\n",
    "print(arr4.dtype) "
   ]
  },
  {
   "cell_type": "markdown",
   "metadata": {},
   "source": [
    "# B. Copying"
   ]
  },
  {
   "cell_type": "code",
   "execution_count": 8,
   "metadata": {},
   "outputs": [
    {
     "name": "stdout",
     "output_type": "stream",
     "text": [
      "Array a: {} array([4, 7])\n",
      "Array c: [4 7]\n",
      "Array a: [12  7]\n",
      "Array c: [12  7]\n",
      "Array b: [2 9]\n",
      "Array d: [2 9]\n",
      "Array b: [2 9]\n",
      "Array d: [55  9]\n"
     ]
    }
   ],
   "source": [
    "a = np.array([4,7]) \n",
    "b = np.array([2,9]) \n",
    "c = a # here (c) is not a copy of (a), it is another name of (a) or reference of (a)\n",
    "# so if we change the value of (c) that means we are changing the value of (a)\n",
    "print('Array a: {}', format(repr(a)))\n",
    "print(\"Array c:\",c)\n",
    "c[0] = 12\n",
    "print(\"Array a:\",a)\n",
    "print(\"Array c:\",c)\n",
    "\n",
    "d = b.copy() # here we make a new array (d) which is a copy of array (b)\n",
    "print(\"Array b:\",b)\n",
    "print(\"Array d:\",d)\n",
    "d[0] = 55\n",
    "print(\"Array b:\",b)\n",
    "print(\"Array d:\",d)\n"
   ]
  },
  {
   "cell_type": "markdown",
   "metadata": {},
   "source": [
    "# C. Casting"
   ]
  },
  {
   "cell_type": "code",
   "execution_count": 9,
   "metadata": {},
   "outputs": [
    {
     "name": "stdout",
     "output_type": "stream",
     "text": [
      "int32\n",
      "float32\n"
     ]
    }
   ],
   "source": [
    "# changing of datatype\n",
    "arr = np.array([1,2,3])\n",
    "print(arr.dtype) # it's type is int at this time\n",
    "arr = arr.astype(np.float32) # here we use astype function to change it's datatype to float32\n",
    "print(arr.dtype)"
   ]
  },
  {
   "cell_type": "markdown",
   "metadata": {},
   "source": [
    "# D. NaN"
   ]
  },
  {
   "cell_type": "code",
   "execution_count": 10,
   "metadata": {},
   "outputs": [
    {
     "name": "stdout",
     "output_type": "stream",
     "text": [
      "['nan' '23' 'name' '34.34']\n",
      "['55' '23' 'name' '34.34']\n"
     ]
    }
   ],
   "source": [
    "# when we don't want a numpy array to contain a value at a particular index, we can use np.nan to act as a placeholder\n",
    "arr = np.array([np.nan, 23,\"name\",34.34])\n",
    "print(arr) # it prints (nan) at index 0\n",
    "arr[0] = 55\n",
    "print(arr) # it prints 55 at index 0\n",
    "# we can't do typecasting here because the unknown quantity will be int, float or string "
   ]
  },
  {
   "cell_type": "markdown",
   "metadata": {},
   "source": [
    "# E. Infinity"
   ]
  },
  {
   "cell_type": "code",
   "execution_count": 11,
   "metadata": {},
   "outputs": [
    {
     "name": "stdout",
     "output_type": "stream",
     "text": [
      "True\n",
      "[ inf 345. 432.]\n"
     ]
    }
   ],
   "source": [
    "# to represent infinity in numpy, we use the np.inf special value. We can also represent negative infinity with -np.inf\n",
    "print(np.inf > 10009099909090)\n",
    "arr = np.array([np.inf, 345,432])\n",
    "print(arr)\n",
    "# here we can't do typecasting to int because the infinity will not come in range of int"
   ]
  },
  {
   "cell_type": "code",
   "execution_count": null,
   "metadata": {},
   "outputs": [],
   "source": []
  }
 ],
 "metadata": {
  "kernelspec": {
   "display_name": "Python 3",
   "language": "python",
   "name": "python3"
  },
  "language_info": {
   "codemirror_mode": {
    "name": "ipython",
    "version": 3
   },
   "file_extension": ".py",
   "mimetype": "text/x-python",
   "name": "python",
   "nbconvert_exporter": "python",
   "pygments_lexer": "ipython3",
   "version": "3.10.0"
  }
 },
 "nbformat": 4,
 "nbformat_minor": 2
}
