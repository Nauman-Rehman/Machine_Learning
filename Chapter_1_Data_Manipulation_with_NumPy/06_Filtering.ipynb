{
 "cells": [
  {
   "cell_type": "code",
   "execution_count": 1,
   "metadata": {},
   "outputs": [],
   "source": [
    "import numpy as np"
   ]
  },
  {
   "cell_type": "markdown",
   "metadata": {},
   "source": [
    "# A. Filtering data\n",
    "#### sometimes we have data that contains values we don't want to use, then we filter the overall data for only the values that we want"
   ]
  },
  {
   "cell_type": "code",
   "execution_count": 2,
   "metadata": {},
   "outputs": [
    {
     "name": "stdout",
     "output_type": "stream",
     "text": [
      "array([[False, False,  True],\n",
      "       [False,  True, False],\n",
      "       [False, False, False]])\n",
      "array([[False,  True,  True],\n",
      "       [ True,  True, False],\n",
      "       [False, False,  True]])\n",
      "array([[ True,  True,  True],\n",
      "       [False,  True,  True],\n",
      "       [ True,  True, False]])\n",
      "array([[ True,  True, False],\n",
      "       [ True, False,  True],\n",
      "       [ True,  True,  True]])\n"
     ]
    }
   ],
   "source": [
    "arr = np.array([[0,2,3],\n",
    "                [1,3,-6],\n",
    "                [-3,-2,1]])\n",
    "print(repr(arr == 3))\n",
    "print(repr(arr > 0))\n",
    "print(repr(arr != 1))\n",
    "# negated from the previous step\n",
    "print(repr(~(arr == 3)))"
   ]
  },
  {
   "cell_type": "markdown",
   "metadata": {},
   "source": [
    "#### (np.nan) can't be used with any relation operation. Instead we use (np.isnan) to determine which locations of the array contain (np.nan)"
   ]
  },
  {
   "cell_type": "code",
   "execution_count": 3,
   "metadata": {},
   "outputs": [
    {
     "name": "stdout",
     "output_type": "stream",
     "text": [
      "array([[False, False,  True],\n",
      "       [False,  True, False],\n",
      "       [ True, False, False]])\n"
     ]
    }
   ],
   "source": [
    "arr = np.array([[0,2,np.nan],\n",
    "                [1,np.nan,-6],\n",
    "                [np.nan,-2,1]])\n",
    "print(repr(np.isnan(arr)))"
   ]
  },
  {
   "cell_type": "markdown",
   "metadata": {},
   "source": [
    "# B. Filtering in NumPy\n",
    "#### (np.where) is used to find out our desired element position"
   ]
  },
  {
   "cell_type": "code",
   "execution_count": 5,
   "metadata": {},
   "outputs": [
    {
     "name": "stdout",
     "output_type": "stream",
     "text": [
      "(array([0, 2, 5], dtype=int64),)\n",
      "(array([1, 3], dtype=int64),)\n",
      "array([0, 0, 1, 2], dtype=int64)\n",
      "array([1, 2, 0, 0], dtype=int64)\n",
      "array([ 2,  3,  1, -3])\n"
     ]
    }
   ],
   "source": [
    "print(repr(np.where([True, False, True,False , False, True]))) # it prints the index wherever be True\n",
    "arr = np.array([0,3,5,3,1])\n",
    "print(repr(np.where(arr == 3)))\n",
    "\n",
    "arr = np.array([[0,2,3],\n",
    "                [1,0,0],\n",
    "                [-3,0,0]])\n",
    "x_ind, y_ind = np.where(arr != 0)\n",
    "print(repr(x_ind)) # x indices of non-zero elements \n",
    "print(repr(y_ind)) # y indices of non-zero elements \n",
    "print(repr(arr[x_ind, y_ind]))"
   ]
  },
  {
   "cell_type": "markdown",
   "metadata": {},
   "source": [
    "##### The interesting thing about (np.where) is that it must be applied with exactly 1 or 3 arguments. When we use 3 arguments, the first argument is still the boolean array. However, the next two arguments represent the (True) replacement values and the (False) replacement values, respectively"
   ]
  },
  {
   "cell_type": "code",
   "execution_count": 2,
   "metadata": {},
   "outputs": [
    {
     "name": "stdout",
     "output_type": "stream",
     "text": [
      "array([[ 1, -5],\n",
      "       [-1,  4]])\n",
      "array([[-2, -5],\n",
      "       [ 3,  4]])\n",
      "array([[1, 2],\n",
      "       [3, 4]])\n"
     ]
    }
   ],
   "source": [
    "np_filter = np.array([[True,False],[False,True]])\n",
    "positives = np.array([[1,2],[3,4]])\n",
    "negatives = np.array([[-2,-5],[-1,-8]])\n",
    "print(repr(np.where(np_filter, positives, negatives)))\n",
    "# in the above line positives takes (True) values and negatives takes (False) values because it comes at 2nd and 3rd place respectively\n",
    "# so from positives 1 and 4 comes for position (0,0) and (1,1) respectively and from negatives -5 and -1 comes for position (0,1) and (1,0) respectively\n",
    "\n",
    "np_filter = positives > 2 # definition of np_filter is changed now it only includes the values from positives which is greater than 2\n",
    "print(repr(np.where(np_filter, positives, negatives)))\n",
    "\n",
    "np_filter = positives > 0 # agian the definition of the np_filter is changed and now it can take the values which is greater than 0 from positives\n",
    "print(repr(np.where(np_filter, positives, negatives)))"
   ]
  },
  {
   "cell_type": "markdown",
   "metadata": {},
   "source": [
    "#### Note that our second and thirs arguments necessarily had the same shape as the first argument. However, if we wanted to use a constant replacement value e.g. -1, we could incorporate broadcasting. Rather than using an entire arraqy of the same value, we can just use the value itself as an argument."
   ]
  },
  {
   "cell_type": "code",
   "execution_count": 3,
   "metadata": {},
   "outputs": [
    {
     "name": "stdout",
     "output_type": "stream",
     "text": [
      "array([[ 1, -1],\n",
      "       [-1,  4]])\n"
     ]
    }
   ],
   "source": [
    "np_filter = np.array([[True,False],[False,True]])\n",
    "positives = np.array([[1,2],[3,4]])\n",
    "print(repr(np.where(np_filter,positives,-1)))"
   ]
  },
  {
   "cell_type": "markdown",
   "metadata": {},
   "source": [
    "# C. Axis-wise filtering"
   ]
  },
  {
   "cell_type": "code",
   "execution_count": 5,
   "metadata": {},
   "outputs": [
    {
     "name": "stdout",
     "output_type": "stream",
     "text": [
      "array([[ True,  True,  True],\n",
      "       [ True,  True,  True],\n",
      "       [ True,  True,  True]])\n",
      "True\n",
      "True\n"
     ]
    }
   ],
   "source": [
    "arr = np.array([[-2,-1,-3],[4,5,-6],[3,9,1]])\n",
    "print(repr(arr>0)) # it prints an array of (True) and (False) in which true indicates the position of positive value and false indicates the position of negative value\n",
    "print(np.any(arr>0)) # if there is any value greater than 0 then it prints True --> OR(||) function\n",
    "print(np.all(arr>0)) # if all the values in the array are greater than 0 then it prints True otherwise False --> AND(&&) function"
   ]
  },
  {
   "cell_type": "markdown",
   "metadata": {},
   "source": [
    "##### The below code is only for making understanding about axis or to get more clarity"
   ]
  },
  {
   "cell_type": "code",
   "execution_count": 6,
   "metadata": {},
   "outputs": [
    {
     "name": "stdout",
     "output_type": "stream",
     "text": [
      "[[[ 5  8  2]\n",
      "  [ 1  9  4]]\n",
      "\n",
      " [[ 3  7  6]\n",
      "  [ 0 12 10]]]\n",
      "[[1 1 0]\n",
      " [1 0 0]]\n",
      "[[1 0 0]\n",
      " [1 0 0]]\n",
      "[[2 0]\n",
      " [0 0]]\n"
     ]
    }
   ],
   "source": [
    "arr = np.array([[[5,8,2], [1,9,4]],[[3,7,6],[0,12,10]]])\n",
    "print(arr)\n",
    "print(np.argmin(arr,axis=0)) # z axis each row in z-direction\n",
    "print(np.argmin(arr,axis=1)) # y axis each column\n",
    "print(np.argmin(arr,axis=2)) # x axis each row"
   ]
  },
  {
   "cell_type": "code",
   "execution_count": 7,
   "metadata": {},
   "outputs": [
    {
     "name": "stdout",
     "output_type": "stream",
     "text": [
      "array([[False, False, False],\n",
      "       [ True,  True, False],\n",
      "       [ True,  True,  True]])\n",
      "array([ True,  True,  True])\n",
      "array([False,  True,  True])\n",
      "array([False, False,  True])\n"
     ]
    }
   ],
   "source": [
    "arr = np.array([[-2,-1,-3],[4,5,-6],[3,9,1]])\n",
    "print(repr(arr>0))\n",
    "print(repr(np.any(arr>0, axis=0))) # check if any > 0 for each column\n",
    "print(repr(np.any(arr>0, axis=1))) # check if any > 1 for each row\n",
    "print(repr(np.all(arr>0, axis=1))) # check if all > 0 for each row"
   ]
  },
  {
   "cell_type": "markdown",
   "metadata": {},
   "source": [
    "##### We use (np.any) to obtain a boolean array representing the rows that have at least one positive number. We then use the boolean array as the input to (np.where), which gives us the actual indices of the rows with at least one positive number."
   ]
  },
  {
   "cell_type": "code",
   "execution_count": 4,
   "metadata": {},
   "outputs": [
    {
     "name": "stdout",
     "output_type": "stream",
     "text": [
      "[False  True  True]\n",
      "array([[ 4,  5, -6],\n",
      "       [ 3,  9,  1]])\n"
     ]
    }
   ],
   "source": [
    "arr = np.array([[-2,-1,-3],\n",
    "                [4,5,-6],\n",
    "                [3,9,1]])\n",
    "has_positive = np.any(arr > 0, axis = 1) # it check in each row that there is any positive or not \n",
    "print(has_positive)\n",
    "print(repr(arr[np.where(has_positive)])) # it prints only those rows or columns where the definition of has positive is (True)"
   ]
  },
  {
   "cell_type": "code",
   "execution_count": null,
   "metadata": {},
   "outputs": [],
   "source": []
  }
 ],
 "metadata": {
  "kernelspec": {
   "display_name": "Python 3",
   "language": "python",
   "name": "python3"
  },
  "language_info": {
   "codemirror_mode": {
    "name": "ipython",
    "version": 3
   },
   "file_extension": ".py",
   "mimetype": "text/x-python",
   "name": "python",
   "nbconvert_exporter": "python",
   "pygments_lexer": "ipython3",
   "version": "3.10.0"
  }
 },
 "nbformat": 4,
 "nbformat_minor": 2
}
