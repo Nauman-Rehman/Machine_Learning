{
 "cells": [
  {
   "cell_type": "code",
   "execution_count": 1,
   "metadata": {},
   "outputs": [],
   "source": [
    "import numpy as np\n",
    "import sklearn.preprocessing"
   ]
  },
  {
   "cell_type": "markdown",
   "metadata": {},
   "source": [
    "# A. Range scaling\n",
    "Apart from standardizing data, we can also scale data by compressing it into a fixed range. One of the biggest use cases for this is compressing data into the range [0, 1]. This allows us to view the data in terms of proportions, or percentages, based on the minimum and maximum values in the data.\n",
    "\n",
    "The formula for scaling based on a range is a two-step process. For a given data value, x, we first compute the proportion of the value with respect to the min and max of the data d<sub>min</sub> and d<sub>max</sub>, respectively.\n",
    "\n",
    "# &nbsp; &nbsp; &nbsp; &nbsp; &nbsp; &nbsp; &nbsp; &nbsp; x<sub>prop</sub> = (x - d<sub>min</sub>)/(d<sub>max</sub> - d<sub>min</sub>)\n",
    "​\n",
    " \n",
    "​\n",
    " The formula above computes the proportion of the data value, x<sub>prop</sub>. Note that this only works if not all the data values are the same (i.e. d<sub>max</sub> ≠ d<sub>min</sub>).\n",
    "\n",
    "We then use the proportion of the value to scale to the specified range, [r<sub>min</sub>, r<sub>max</sub>]. The formula below calculates the new scaled value, xscale.\n",
    "\n",
    "# &nbsp; &nbsp; &nbsp; &nbsp; &nbsp; &nbsp; &nbsp; &nbsp; &nbsp; x<sub>scale</sub> = { x<sub>prop</sub> * (r<sub>max</sub> - r<sub>min</sub>) } + r<sub>min</sub> \n",
    "​\n"
   ]
  },
  {
   "cell_type": "markdown",
   "metadata": {},
   "source": [
    "# B. Range compression in scikit-learn\n",
    "The scikit-learn library provides a variety of transformers, modules that perform transformations on data. While in the previous chapter we used a single function, scale, to perform the data standardization, the remaining chapters will focus on using these transformer modules.\n",
    "\n",
    "The MinMaxScaler transformer performs the range compression using the previous formula. Specifically, it scales each feature (column) of the data to a given range (where the default range is [0, 1]).\n",
    "\n",
    "The code below shows how to use the MinMaxScaler (with the default range and a custom range).\n",
    "\n",
    "The MinMaxScaler object contains a function called fit_transform, which allows it to take in the input data array and then output the scaled data. The function is a combination of the object's fit and transform functions, where the former takes in an input data array and the latter transforms a (possibly different) array based on the data from the input to the fit function."
   ]
  },
  {
   "cell_type": "code",
   "execution_count": 3,
   "metadata": {},
   "outputs": [
    {
     "name": "stdout",
     "output_type": "stream",
     "text": [
      "array([[ 1.2,  3.2],\n",
      "       [-0.3, -1.2],\n",
      "       [ 6.5, 10.1],\n",
      "       [ 2.2, -8.4]])\n",
      "\n",
      "array([[0.22058824, 0.62702703],\n",
      "       [0.        , 0.38918919],\n",
      "       [1.        , 1.        ],\n",
      "       [0.36764706, 0.        ]])\n",
      "\n",
      "array([[-0.89705882,  1.13513514],\n",
      "       [-2.        , -0.05405405],\n",
      "       [ 3.        ,  3.        ],\n",
      "       [-0.16176471, -2.        ]])\n",
      "\n"
     ]
    }
   ],
   "source": [
    "data = np.array([[ 1.2,  3.2],\n",
    "               [-0.3, -1.2],\n",
    "               [ 6.5, 10.1],\n",
    "               [ 2.2, -8.4]])\n",
    "\n",
    "print('{}\\n'.format(repr(data)))\n",
    "\n",
    "from sklearn.preprocessing import MinMaxScaler\n",
    "default_scaler = MinMaxScaler() # the default range is [0,1]\n",
    "# as we see the above range is [0,1] so minimum among a column is taken as 0 and maximum is taken as 1 and middle values are in between range of [0,1]\n",
    "transformed = default_scaler.fit_transform(data)\n",
    "print('{}\\n'.format(repr(transformed)))\n",
    "custom_scaler = MinMaxScaler(feature_range=(-2, 3))\n",
    "# as we see the above range is [-2,3] so minimum among a column is taken as -2 and maximum is taken as 3 and middle values are in between range of [-2,3]\n",
    "transformed = custom_scaler.fit_transform(data)\n",
    "print('{}\\n'.format(repr(transformed)))\n",
    "# and also the output values are xscale and input values are x and dmax is greatest among all (x)values in column and dmin is the smallest among all (x)values of column\n",
    "# and rmax and rmin are range"
   ]
  },
  {
   "cell_type": "markdown",
   "metadata": {},
   "source": [
    "Now lets run the fit and transform functions separately and compare them with the fit_transform function. fit takes in an input data array and transform transforms a (possibly different) array based on the data from the input to the fit function."
   ]
  },
  {
   "cell_type": "code",
   "execution_count": 4,
   "metadata": {},
   "outputs": [
    {
     "name": "stdout",
     "output_type": "stream",
     "text": [
      "array([[ 1.2, -0.5],\n",
      "       [ 5.3,  2.3],\n",
      "       [-3.3,  4.1]])\n",
      "\n",
      "array([[0.52325581, 0.        ],\n",
      "       [1.        , 0.60869565],\n",
      "       [0.        , 1.        ]])\n",
      "\n",
      "array([[ 0.22058824,  0.42702703],\n",
      "       [ 0.82352941,  0.57837838],\n",
      "       [-0.44117647,  0.67567568]])\n",
      "\n"
     ]
    }
   ],
   "source": [
    "new_data = np.array([[ 1.2, -0.5],\n",
    "                     [ 5.3,  2.3],\n",
    "                     [-3.3,  4.1]])\n",
    "\n",
    "print('{}\\n'.format(repr(new_data)))\n",
    "\n",
    "from sklearn.preprocessing import MinMaxScaler\n",
    "default_scaler = MinMaxScaler() # the default range is [0,1]\n",
    "transformed = default_scaler.fit_transform(new_data)\n",
    "print('{}\\n'.format(repr(transformed)))\n",
    "\n",
    "default_scaler = MinMaxScaler()  # new instance\n",
    "default_scaler.fit(data)  # different data value fit\n",
    "# in the above line fit(data) means that it fitted the data of the data(previous cell) so now it's maximum is the maximum of data(6.5,10.1)\n",
    "# and minimum is the minimum of data(-0.3,-8.4) because of which now it gives output by taking these as maximum and minimum\n",
    "# and not by taking maximum and minimum of new_data\n",
    "transformed = default_scaler.transform(new_data)\n",
    "print('{}\\n'.format(repr(transformed)))"
   ]
  },
  {
   "cell_type": "markdown",
   "metadata": {},
   "source": [
    "The code above scales the new_data array to the range [0, 1], based on the (column-wise) minimum and maximum values from the data array in the original code example."
   ]
  },
  {
   "cell_type": "code",
   "execution_count": null,
   "metadata": {},
   "outputs": [],
   "source": []
  }
 ],
 "metadata": {
  "kernelspec": {
   "display_name": "Python 3",
   "language": "python",
   "name": "python3"
  },
  "language_info": {
   "codemirror_mode": {
    "name": "ipython",
    "version": 3
   },
   "file_extension": ".py",
   "mimetype": "text/x-python",
   "name": "python",
   "nbconvert_exporter": "python",
   "pygments_lexer": "ipython3",
   "version": "3.10.0"
  }
 },
 "nbformat": 4,
 "nbformat_minor": 2
}
