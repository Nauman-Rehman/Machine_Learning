{
 "cells": [
  {
   "cell_type": "code",
   "execution_count": 1,
   "metadata": {},
   "outputs": [],
   "source": [
    "import numpy as np\n",
    "import sklearn.preprocessing"
   ]
  },
  {
   "cell_type": "markdown",
   "metadata": {},
   "source": [
    "# L2 normalization\n",
    "So far, each of the scaling techniques we've used has been applied to the data features (i.e. columns). However, in certain cases we want to scale the individual data observations (i.e. rows). For instance, when clustering data we need to apply L2 normalization to each row, in order to calculate cosine similarity scores. The Clustering section will cover data clustering and cosine similarities in greater depth.\n",
    "\n",
    "L2 normalization applied to a particular row of a data array will divide each value in that row by the row's L2 norm. In general terms, the L2 norm of a row is just the square root of the sum of squared values for the row.\n",
    "\n",
    "## &nbsp; &nbsp; &nbsp; &nbsp; &nbsp; &nbsp; &nbsp; &nbsp; X = [x<sub>1</sub>, x<sub>2</sub>, x<sub>3</sub>, ......., x<sub>m</sub>]\n",
    "\n",
    "###  &nbsp; &nbsp; &nbsp; &nbsp; &nbsp; &nbsp; &nbsp; &nbsp; X<sub>L2</sub> = [x<sub>1</sub>/l, x<sub>2</sub>/l, x<sub>3</sub>/l, ......., x<sub>m</sub>/l]\n",
    "where,\n",
    "# &nbsp; &nbsp; &nbsp; &nbsp; &nbsp; &nbsp; &nbsp; &nbsp; &nbsp; &nbsp; &nbsp; &nbsp; l = &#8730; &sum; x<sub>i</sub><super>2</super>\n",
    "  &nbsp; &nbsp; &nbsp; &nbsp; &nbsp; where, i=[1,m] "
   ]
  },
  {
   "cell_type": "markdown",
   "metadata": {},
   "source": [
    "The above formula demonstrates L2 normalization applied to row X to obtain the normalized row of values, XL2.\n",
    "\n",
    "In scikit-learn, the transformer module that implements L2 normalization is the Normalizer.\n",
    "\n",
    "The code below shows how to use the Normalizer."
   ]
  },
  {
   "cell_type": "code",
   "execution_count": 3,
   "metadata": {},
   "outputs": [
    {
     "name": "stdout",
     "output_type": "stream",
     "text": [
      "array([[4, 1, 2, 2],\n",
      "       [3, 4, 0, 0],\n",
      "       [7, 5, 9, 2]])\n",
      "\n",
      "array([[0.8       , 0.2       , 0.4       , 0.4       ],\n",
      "       [0.6       , 0.8       , 0.        , 0.        ],\n",
      "       [0.55513611, 0.39652579, 0.71374643, 0.15861032]])\n",
      "\n"
     ]
    }
   ],
   "source": [
    "data = np.array([[4, 1, 2, 2],\n",
    "                 [3, 4, 0, 0],\n",
    "                 [7, 5, 9, 2]])\n",
    "\n",
    "# predefined data\n",
    "print('{}\\n'.format(repr(data)))\n",
    "\n",
    "from sklearn.preprocessing import Normalizer\n",
    "# the above markdown theory tells it's working and one more thing is that it works in row\n",
    "normalizer = Normalizer()\n",
    "transformed = normalizer.fit_transform(data)\n",
    "print('{}\\n'.format(repr(transformed)))"
   ]
  },
  {
   "cell_type": "code",
   "execution_count": null,
   "metadata": {},
   "outputs": [],
   "source": []
  }
 ],
 "metadata": {
  "kernelspec": {
   "display_name": "Python 3",
   "language": "python",
   "name": "python3"
  },
  "language_info": {
   "codemirror_mode": {
    "name": "ipython",
    "version": 3
   },
   "file_extension": ".py",
   "mimetype": "text/x-python",
   "name": "python",
   "nbconvert_exporter": "python",
   "pygments_lexer": "ipython3",
   "version": "3.10.0"
  }
 },
 "nbformat": 4,
 "nbformat_minor": 2
}
